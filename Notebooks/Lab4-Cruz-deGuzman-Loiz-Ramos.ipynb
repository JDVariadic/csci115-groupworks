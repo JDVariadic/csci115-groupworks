{
 "cells": [
  {
   "cell_type": "markdown",
   "id": "collaborative-martial",
   "metadata": {},
   "source": [
    "# Problem 1"
   ]
  },
  {
   "cell_type": "code",
   "execution_count": 72,
   "id": "suspended-rendering",
   "metadata": {},
   "outputs": [],
   "source": [
    "import pandas as pd\n",
    "import numpy as np\n",
    "from numpy import random\n",
    "\n",
    "class CorruptQueue:\n",
    "    def __init__ (self, df):\n",
    "        self.RegularQueue = []\n",
    "        self.VIPStack = []\n",
    "        self.supervisor = False\n",
    "        self.df = df\n",
    "        self.df.columns=['event', 'client', 'type']\n",
    "        \n",
    "    def read(self):\n",
    "        for idx, row in self.df.iterrows():\n",
    "            if row.event == \"arrive\":\n",
    "                print(\"Supervisor is present\")\n",
    "                [self.RegularQueue.append(self.VIPStack.pop()) for x in range(len(self.VIPStack))]\n",
    "                self.supervisor = True\n",
    "            elif row.event == \"leave\":\n",
    "                print(\"Supervisor not here\")\n",
    "                self.supervisor = False\n",
    "            elif row.event == \"lineup\":\n",
    "                if self.supervisor == True or row.type == \"regular\":\n",
    "                    self.RegularQueue.append([row.client, row.type])\n",
    "                    print(row.type,\"client\", row.client, \"lines up at RegularQueue\")\n",
    "                elif self.supervisor == False and row.type == \"VIP\":\n",
    "                    self.VIPStack.append([row.client, row.type])\n",
    "                    print(row.type, \"client\", row.client, \" lines up at VIPStack\")\n",
    "            elif row.event == \"serve\":\n",
    "                if self.VIPStack != []:\n",
    "                    print(\"Now serving\", self.VIPStack[-1][0],\"from VIPStack\")\n",
    "                    self.VIPStack.pop()\n",
    "                else:\n",
    "                    print(\"Now serving\", self.RegularQueue[0][0],\"from RegularQueue\")\n",
    "                    self.RegularQueue.pop(0)"
   ]
  },
  {
   "cell_type": "code",
   "execution_count": 73,
   "id": "single-mortality",
   "metadata": {},
   "outputs": [
    {
     "name": "stdout",
     "output_type": "stream",
     "text": [
      "regular client John lines up at RegularQueue\n",
      "regular client Bob lines up at RegularQueue\n",
      "regular client Tom lines up at RegularQueue\n",
      "VIP client Sarah  lines up at VIPStack\n",
      "VIP client Marie  lines up at VIPStack\n",
      "VIP client Joan  lines up at VIPStack\n",
      "Now serving Joan from VIPStack\n",
      "Now serving Marie from VIPStack\n",
      "Supervisor is present\n",
      "Now serving John from RegularQueue\n",
      "Now serving Bob from RegularQueue\n",
      "Now serving Tom from RegularQueue\n",
      "VIP client Bea lines up at RegularQueue\n",
      "regular client Hank lines up at RegularQueue\n",
      "Now serving Sarah from RegularQueue\n",
      "Now serving Bea from RegularQueue\n",
      "Now serving Hank from RegularQueue\n",
      "Supervisor not here\n",
      "regular client Art lines up at RegularQueue\n",
      "VIP client Daisy  lines up at VIPStack\n",
      "regular client Marius lines up at RegularQueue\n",
      "VIP client Dane  lines up at VIPStack\n",
      "Now serving Dane from VIPStack\n",
      "Supervisor is present\n",
      "Now serving Art from RegularQueue\n",
      "Now serving Marius from RegularQueue\n",
      "Now serving Daisy from RegularQueue\n",
      "Supervisor not here\n"
     ]
    }
   ],
   "source": [
    "df = pd.read_csv(\"officeinput.txt\", header=None)\n",
    "a = CorruptQueue(df)\n",
    "a.read()"
   ]
  },
  {
   "cell_type": "markdown",
   "id": "beautiful-point",
   "metadata": {},
   "source": [
    "# Problem 2"
   ]
  },
  {
   "cell_type": "code",
   "execution_count": 74,
   "id": "dominant-original",
   "metadata": {},
   "outputs": [],
   "source": [
    "class CorruptQueue:\n",
    "    def __init__ (self, df):\n",
    "        self.RegularQueue = []\n",
    "        self.VIPStack = []\n",
    "        self.supervisor = False\n",
    "        self.df = df\n",
    "        self.df.columns=['event', 'client', 'type']\n",
    "        \n",
    "    def read(self):\n",
    "        for idx, row in self.df.iterrows():\n",
    "            if row.event == \"arrive\":\n",
    "                print(\"Supervisor is present\", file=open(output, \"a\"))\n",
    "                [self.RegularQueue.append(self.VIPStack.pop()) for x in range(len(self.VIPStack))]\n",
    "                self.supervisor = True\n",
    "            elif row.event == \"leave\":\n",
    "                print(\"Supervisor not here\", file=open(output, \"a\"))\n",
    "                self.supervisor = False\n",
    "            elif row.event == \"lineup\":\n",
    "                if self.supervisor == True or row.type == \"regular\":\n",
    "                    self.RegularQueue.append([row.client, row.type])\n",
    "                    print(row.type,\"client\", row.client, \"lines up at RegularQueue\", file=open(output, \"a\"))\n",
    "                elif self.supervisor == False and row.type == \"VIP\":\n",
    "                    self.VIPStack.append([row.client, row.type])\n",
    "                    print(row.type, \"client\", row.client, \" lines up at VIPStack\", file=open(output, \"a\"))\n",
    "            elif row.event == \"serve\":\n",
    "                if self.VIPStack != []:\n",
    "                    print(\"Now serving\", self.VIPStack[-1][0],\"from VIPStack\", file=open(output, \"a\"))\n",
    "                    self.VIPStack.pop()\n",
    "                else:\n",
    "                    print(\"Now serving\", self.RegularQueue[0][0],\"from RegularQueue\", file=open(output, \"a\"))\n",
    "                    self.RegularQueue.pop(0)\n",
    "                    \n",
    "                "
   ]
  },
  {
   "cell_type": "code",
   "execution_count": 75,
   "id": "congressional-round",
   "metadata": {},
   "outputs": [
    {
     "name": "stdin",
     "output_type": "stream",
     "text": [
      "Please enter txt file input to be used:  officeinput.txt\n",
      "Please enter the name of the txt file output to be created:  test.txt\n"
     ]
    }
   ],
   "source": [
    "txt = input(\"Please enter txt file input to be used: \")\n",
    "df = pd.read_csv(txt, header=None)\n",
    "df.columns=['event', 'client', 'type']\n",
    "\n",
    "output = input(\"Please enter the name of the txt file output to be created: \")\n",
    "open(output,\"w+\")\n",
    "b = CorruptQueue(df)\n",
    "b.read()"
   ]
  },
  {
   "cell_type": "markdown",
   "id": "beautiful-backup",
   "metadata": {},
   "source": [
    "# Problem 3"
   ]
  },
  {
   "cell_type": "code",
   "execution_count": 79,
   "id": "blind-fireplace",
   "metadata": {},
   "outputs": [],
   "source": [
    "class CorruptQueue:\n",
    "    def __init__ (self):\n",
    "        self.RegularQueue = []\n",
    "        self.Lambda = 1 #initial value for lambda, mu, and sigma doesn't matter since it will be reset when CQsimulation is called\n",
    "        self.mu = 1\n",
    "        self.sigma = 1\n",
    "        self.t = 0 #simulation time in minutes\n",
    "        self.arrivals = 0 #Total number of arrivals\n",
    "        self.departures = 0 #Total number of departures\n",
    "        self.clients = 0 #current number of clients in the system\n",
    "        self.arrivalqueue = []\n",
    "        self.EL = [self.generateArrivalTime(), float('inf')] # Event list\n",
    "        self.T = 480 #closing time. After time reaches 480 mins, no more arrivals will be generated. This assumes that the government office is open for 8 hours a day.\n",
    "        self.arrivaltimes = {} #dictionary containing arrival time of client using key of self.arrival\n",
    "        self.departuretimes = {} #dictionary containg departure time of client using key of self.departure\n",
    "                    \n",
    "    def getLambda(self):\n",
    "        return self.Lambda\n",
    "    \n",
    "    def setLambda(self, x):\n",
    "        self.Lambda = x\n",
    "        \n",
    "    def getMu(self):\n",
    "        return self.mu\n",
    "    \n",
    "    def setMu(self, x):\n",
    "        self.mu = x\n",
    "        \n",
    "    def getSigma(self):\n",
    "        return self.sigma\n",
    "        \n",
    "    def setSigma(self, x):\n",
    "        self.sigma = x\n",
    "        \n",
    "    def generateArrivalTime(self): #Random timepsan of the next arrival of sutomer\n",
    "        ta = 0 #timespan of the next customer\n",
    "        a = 0\n",
    "        while a==0: #for every 1 minute, generate the probability of a client arriving. If no client arrives, go to the next minute. If one/multiple clients are generated, record the minute in which they arrive.\n",
    "            ta +=1\n",
    "            a = random.poisson(self.getLambda())\n",
    "        for arrival in range(a): #append the number of arrivals for that one minute in a queue\n",
    "            self.arrivalqueue.append(1)\n",
    "        return ta\n",
    "            \n",
    "    \n",
    "    def generateServiceTime(self): #Random time span of service per client\n",
    "        return random.normal(loc=self.getMu(), scale=self.getSigma())"
   ]
  },
  {
   "cell_type": "code",
   "execution_count": 80,
   "id": "eight-ceremony",
   "metadata": {},
   "outputs": [],
   "source": [
    "class CQSimulation(CorruptQueue):\n",
    "    def __init__ (self, iterations):\n",
    "        super().__init__()\n",
    "        self.iterations = iterations #the number of times the simulation should be repeated\n",
    "        self.meanwaittimes = [] #stores mean wait times of clients for each simulation\n",
    "        self.meantimesinsystem = [] #stores mean time in system of clients for each simulation\n",
    "        self.simulate()\n",
    "        \n",
    "    def simulate(self):\n",
    "        for iteration in range(self.iterations):\n",
    "            super().__init__() #reset variables\n",
    "            self.setLambda(float(input(\"Please input lambda value for simulation \" + str(iteration+1) + \": \")))\n",
    "            self.setMu(float(input(\"Please input mu value for simulation \" + str(iteration+1) + \": \")))\n",
    "            self.setSigma(float(input(\"Please input sigma value for simulation \" + str(iteration+1) + \": \")))\n",
    "            \n",
    "            while True:\n",
    "                if self.EL[0] <= self.EL[1] and self.EL[0] <= self.T:\n",
    "                    self.t = self.EL[0]\n",
    "                    self.arrivals += 1\n",
    "                    self.clients += 1\n",
    "                    self.arrivalqueue.pop()\n",
    "                    if self.arrivalqueue ==[]:    \n",
    "                        self.EL[0] += self.generateArrivalTime() #generate the next arrival time of clients\n",
    "                    if self.clients == 1: #if client is the only one in queue, then proceed to service and generate time for service to complete. \n",
    "                        self.EL[1] = self.t + self.generateServiceTime() \n",
    "                    self.arrivaltimes.update({self.arrivals:self.t}) #collect arrival time data\n",
    "                elif self.EL[1] <= self.EL[0] and self.EL[1] <= self.T:\n",
    "                    self.t = self.EL[1]\n",
    "                    self.departures += 1\n",
    "                    self.clients -= 1\n",
    "                    if self.clients == 0: #if queue is empty, then service time becomes infinite\n",
    "                        self.EL[1] = float('inf')\n",
    "                    else: #if there are still clients in queue, then generate the service time for the next client.\n",
    "                        self.EL[1] += self.generateServiceTime()\n",
    "                    self.departuretimes.update({self.departures:self.t}) #collect departure time data\n",
    "                elif min(self.EL) > self.T and self.clients > 0:\n",
    "                    self.t = self.EL[1]\n",
    "                    self.departures += 1\n",
    "                    self.clients -= 1\n",
    "                    if self.clients > 0:\n",
    "                        self.EL[1] += self.generateServiceTime()\n",
    "                    self.departuretimes.update({self.departures:self.t}) #collect departure time data\n",
    "                else:\n",
    "                    timesinsystem = [] # array containing the time spent in the system by each customer\n",
    "                    waittimes = [] # array containing the queue wait time of each customer\n",
    "                    for i in range(self.arrivals):\n",
    "                        timesinsystem.append(self.departuretimes.get(i+1)-self.arrivaltimes.get(i+1))\n",
    "                        if  i == 0 or (self.departuretimes.get(i)-self.arrivaltimes.get(i+1)) <= 0:\n",
    "                            waittimes.append(0)\n",
    "                        else:\n",
    "                            waittimes.append(self.departuretimes.get(i)-self.arrivaltimes.get(i+1))\n",
    "                    self.meanwaittimes.append(np.mean(waittimes))\n",
    "                    self.meantimesinsystem.append(np.mean(timesinsystem))\n",
    "                    print(\"\\nSimulation\", iteration+1, \"Results:\\nAverage wait time: \", np.mean(waittimes), \"\\nAverage time a customer is in the system: \", np.mean(timesinsystem), \"\\n\")\n",
    "                    break\n",
    "        print(\"AVERAGE FOR ALL SIMULATIONS\\nAverage wait time of all simulations: \", np.mean(self.meanwaittimes))\n",
    "        print(\"Average time a customer is in the system for all simulations:\", np.mean(self.meantimesinsystem))"
   ]
  },
  {
   "cell_type": "code",
   "execution_count": 81,
   "id": "fancy-slave",
   "metadata": {},
   "outputs": [
    {
     "name": "stdin",
     "output_type": "stream",
     "text": [
      "Please input lambda value for simulation 1:  0.5\n",
      "Please input mu value for simulation 1:  1\n",
      "Please input sigma value for simulation 1:  0.2\n"
     ]
    },
    {
     "name": "stdout",
     "output_type": "stream",
     "text": [
      "\n",
      "Simulation 1 Results:\n",
      "Average wait time:  0.37375744584378867 \n",
      "Average time a customer is in the system:  1.3697194561684833 \n",
      "\n"
     ]
    },
    {
     "name": "stdin",
     "output_type": "stream",
     "text": [
      "Please input lambda value for simulation 2:  0.5\n",
      "Please input mu value for simulation 2:  1\n",
      "Please input sigma value for simulation 2:  0.2\n"
     ]
    },
    {
     "name": "stdout",
     "output_type": "stream",
     "text": [
      "\n",
      "Simulation 2 Results:\n",
      "Average wait time:  0.5388534862134455 \n",
      "Average time a customer is in the system:  1.5409546869762722 \n",
      "\n"
     ]
    },
    {
     "name": "stdin",
     "output_type": "stream",
     "text": [
      "Please input lambda value for simulation 3:  0.5\n",
      "Please input mu value for simulation 3:  1\n",
      "Please input sigma value for simulation 3:  0.2\n"
     ]
    },
    {
     "name": "stdout",
     "output_type": "stream",
     "text": [
      "\n",
      "Simulation 3 Results:\n",
      "Average wait time:  0.5603098847483697 \n",
      "Average time a customer is in the system:  1.5495477638719914 \n",
      "\n",
      "AVERAGE FOR ALL SIMULATIONS\n",
      "Average wait time of all simulations:  0.4909736056018679\n",
      "Average time a customer is in the system for all simulations: 1.486740635672249\n"
     ]
    }
   ],
   "source": [
    "b = CQSimulation(3)"
   ]
  },
  {
   "cell_type": "code",
   "execution_count": null,
   "id": "compound-maine",
   "metadata": {},
   "outputs": [],
   "source": []
  }
 ],
 "metadata": {
  "kernelspec": {
   "display_name": "Python 3",
   "language": "python",
   "name": "python3"
  },
  "language_info": {
   "codemirror_mode": {
    "name": "ipython",
    "version": 3
   },
   "file_extension": ".py",
   "mimetype": "text/x-python",
   "name": "python",
   "nbconvert_exporter": "python",
   "pygments_lexer": "ipython3",
   "version": "3.8.5"
  }
 },
 "nbformat": 4,
 "nbformat_minor": 5
}
