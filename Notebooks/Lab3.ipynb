{
 "cells": [
  {
   "cell_type": "code",
   "execution_count": 1,
   "metadata": {},
   "outputs": [],
   "source": [
    "import math\n",
    "import numpy as np\n",
    "\n",
    "class MarkovChain():\n",
    "    def __init__(self, A, state_labels=None):\n",
    "        matrix_dimension = int(math.sqrt(len(A)))\n",
    "        \n",
    "        self.A = np.array(A).reshape(matrix_dimension, matrix_dimension)\n",
    "        \n",
    "        if state_labels != None:\n",
    "            state_indices = [i for i in range(len(state_labels))]\n",
    "            self.state_labels = dict(zip(state_labels, state_indices))\n",
    "        else:\n",
    "            self.state_labels= dict(zip([i for i in range(1, 10)], [i for i in range(0, 9)]))\n",
    "        print(self.A)\n",
    "        print(self.state_labels)\n",
    "        for i in range(0, matrix_dimension):\n",
    "            if int(round(sum(self.A[:,i]), 1)) != 1:\n",
    "                raise ValueError('Matrix not a column stochastic')\n",
    "            \n",
    "    def change_state(self, current_state):\n",
    "        state_probabilities = np.random.multinomial(1, self.A[:,self.state_labels[current_state]])\n",
    "        return list(self.state_labels.keys())[list(self.state_labels.values()).index(np.argmax(state_probabilities))]\n",
    "        \n",
    "    def walk(self, n, current_state):\n",
    "        activity_log = [current_state]\n",
    "        for i in range(n - 1):\n",
    "            print(current_state)\n",
    "            current_state = self.change_state(current_state)\n",
    "            activity_log.append(current_state)\n",
    "        return activity_log\n",
    "    \n",
    "    def path(self, current_state, end):\n",
    "        activity_log = [current_state]\n",
    "        while current_state != end:\n",
    "            current_state = self.change_state(current_state)\n",
    "            activity_log.append(current_state)\n",
    "        return activity_log\n",
    "    \n",
    "    def simulate(self, n, current_state):\n",
    "        probability = self.A\n",
    "        activity_log = [probability]\n",
    "        for i in range(n - 1):\n",
    "            probability = np.dot(self.A, probability)\n",
    "            #activity_log.append(probability[:,self.state_labels[current_state]])\n",
    "            activity_log.append(probability)\n",
    "        return activity_log\n",
    "        "
   ]
  },
  {
   "cell_type": "code",
   "execution_count": 2,
   "metadata": {},
   "outputs": [
    {
     "name": "stdout",
     "output_type": "stream",
     "text": [
      "[[0.4 0.4]\n",
      " [0.6 0.6]]\n",
      "{'cool': 0, 'not cool': 1}\n"
     ]
    }
   ],
   "source": [
    "test_chain = MarkovChain([0.4, 0.4, 0.6, 0.6], ['cool', 'not cool'])"
   ]
  },
  {
   "cell_type": "code",
   "execution_count": 4,
   "metadata": {},
   "outputs": [],
   "source": [
    "import markovchain"
   ]
  },
  {
   "cell_type": "code",
   "execution_count": 5,
   "metadata": {},
   "outputs": [
    {
     "data": {
      "text/plain": [
       "<module 'markovchain' from 'D:\\\\OtherSoftware\\\\Anaconda3\\\\lib\\\\site-packages\\\\markovchain\\\\__init__.py'>"
      ]
     },
     "execution_count": 5,
     "metadata": {},
     "output_type": "execute_result"
    }
   ],
   "source": []
  },
  {
   "cell_type": "code",
   "execution_count": null,
   "metadata": {},
   "outputs": [],
   "source": [
    "transition_matrix_A = [\n",
    "    0, 0, 0, 0, 0, 0, 0, 0, 0,\n",
    "    0.05, 0.7, 0, 0, 0, 0.5, 0, 0, 0,\n",
    "    0.35, 0.2, 0.8, 0, 0.1, 0, 0, 0, 0,\n",
    "    0.6, 0, 0, 0.8, 0.1, 0, 0, 0, 0,\n",
    "    0, 0.05, 0, 0, 0.7, 0, 0.7, 0, 0,\n",
    "    0, 0, 0.05, 0.05, 0, 0.3, 0.1, 0, 0,\n",
    "    0, 0, 0.05, 0.05, 0, 0, 0, 0, 0,\n",
    "    0, 0.05, 0, 0, 0.1, 0, 0.2, 1, 0,\n",
    "    0, 0, 0.1, 0.1, 0, 0.2, 0, 0, 1\n",
    "]"
   ]
  },
  {
   "cell_type": "code",
   "execution_count": null,
   "metadata": {},
   "outputs": [],
   "source": [
    "new_chain = MarkovChain(transition_matrix_A)"
   ]
  },
  {
   "cell_type": "code",
   "execution_count": null,
   "metadata": {},
   "outputs": [],
   "source": [
    "[i for i in range(1,10)]"
   ]
  },
  {
   "cell_type": "code",
   "execution_count": null,
   "metadata": {},
   "outputs": [],
   "source": []
  }
 ],
 "metadata": {
  "kernelspec": {
   "display_name": "Python 3",
   "language": "python",
   "name": "python3"
  },
  "language_info": {
   "codemirror_mode": {
    "name": "ipython",
    "version": 3
   },
   "file_extension": ".py",
   "mimetype": "text/x-python",
   "name": "python",
   "nbconvert_exporter": "python",
   "pygments_lexer": "ipython3",
   "version": "3.8.5"
  }
 },
 "nbformat": 4,
 "nbformat_minor": 4
}
