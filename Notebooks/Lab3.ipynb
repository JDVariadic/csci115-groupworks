{
 "cells": [
  {
   "cell_type": "markdown",
   "metadata": {},
   "source": [
    "# Problem 2"
   ]
  },
  {
   "cell_type": "markdown",
   "metadata": {},
   "source": [
    "MarkovChainLab class:"
   ]
  },
  {
   "cell_type": "code",
   "execution_count": 2,
   "metadata": {},
   "outputs": [],
   "source": [
    "import numpy as np\n",
    "\n",
    "class MarkovChainLab():\n",
    "    def __init__(self, A, states=None):\n",
    "        self.A = A\n",
    "        self.states = states\n",
    "        self.statesidx = {}\n",
    "        self.S = np.linalg.inv((np.eye(len(A)))-A)\n",
    "        \n",
    "        if self.states == None:\n",
    "            for idx in range(len(self.A)):\n",
    "                self.statesidx.update({idx:idx})\n",
    "        else:\n",
    "            idx = 0\n",
    "            for state in self.states:\n",
    "                self.statesidx.update({state: idx})\n",
    "                idx += 1\n",
    "        \n",
    "        for col in range(len(self.A)):\n",
    "            if round(sum(self.A[:,col])) != 1:\n",
    "                raise ValueError(\"A is not column stochastic\")\n",
    "    \n",
    "    def getS(self):\n",
    "        return self.S\n",
    "    \n",
    "    def getA(self):\n",
    "        return self.A"
   ]
  },
  {
   "cell_type": "markdown",
   "metadata": {},
   "source": [
    "Given Transition Probability Marix:"
   ]
  },
  {
   "cell_type": "code",
   "execution_count": 3,
   "metadata": {},
   "outputs": [],
   "source": [
    "matrix_A = np.array([\n",
    "    [0, 0, 0, 0, 0, 0, 0, 0, 0],\n",
    "    [0.05, 0.7, 0, 0, 0, 0.5, 0, 0, 0],\n",
    "    [0.35, 0.2, 0.8, 0, 0.1, 0, 0, 0, 0],\n",
    "    [0.6, 0, 0, 0.8, 0.1, 0, 0, 0, 0],\n",
    "    [0, 0.05, 0, 0, 0.7, 0, 0.7, 0, 0],\n",
    "    [0, 0, 0.05, 0.05, 0, 0.3, 0.1, 0, 0],\n",
    "    [0, 0, 0.05, 0.05, 0, 0, 0, 0, 0],\n",
    "    [0, 0.05, 0, 0, 0.1, 0, 0.2, 1, 0],\n",
    "    [0, 0, 0.1, 0.1, 0, 0.2, 0, 0, 1]\n",
    "])\n"
   ]
  },
  {
   "cell_type": "markdown",
   "metadata": {},
   "source": [
    "Declaring A as an object of MarkovChainLab EXCLUDING all absorption states:"
   ]
  },
  {
   "cell_type": "code",
   "execution_count": 4,
   "metadata": {},
   "outputs": [],
   "source": [
    "A = MarkovChainLab(matrix_A[:7,:7], [i for i in range(1, 8)])"
   ]
  },
  {
   "cell_type": "markdown",
   "metadata": {},
   "source": [
    "Printing object attributes:"
   ]
  },
  {
   "cell_type": "code",
   "execution_count": 5,
   "metadata": {},
   "outputs": [
    {
     "name": "stdout",
     "output_type": "stream",
     "text": [
      "Labels:  [1, 2, 3, 4, 5, 6, 7]\n",
      "Dictioinary:  {1: 0, 2: 1, 3: 2, 4: 3, 5: 4, 6: 5, 7: 6}\n",
      "A:\n",
      " [[0.   0.   0.   0.   0.   0.   0.  ]\n",
      " [0.05 0.7  0.   0.   0.   0.5  0.  ]\n",
      " [0.35 0.2  0.8  0.   0.1  0.   0.  ]\n",
      " [0.6  0.   0.   0.8  0.1  0.   0.  ]\n",
      " [0.   0.05 0.   0.   0.7  0.   0.7 ]\n",
      " [0.   0.   0.05 0.05 0.   0.3  0.1 ]\n",
      " [0.   0.   0.05 0.05 0.   0.   0.  ]]\n",
      "S:\n",
      " [[1.         0.         0.         0.         0.         0.\n",
      "  0.        ]\n",
      " [1.05296035 4.03041825 0.89625204 0.89625204 0.59750136 2.87887018\n",
      "  0.70613797]\n",
      " [3.28551059 4.67680608 6.37017925 1.37017925 2.5801195  3.34057577\n",
      "  2.14014123]\n",
      " [3.48255024 0.64638783 0.47392721 5.47392721 1.98261814 0.46170559\n",
      "  1.43400326]\n",
      " [0.96510049 1.29277567 0.94785443 0.94785443 3.96523628 0.92341119\n",
      "  2.86800652]\n",
      " [0.53177621 0.41825095 0.53775122 0.53775122 0.35850081 1.72732211\n",
      "  0.42368278]\n",
      " [0.33840304 0.2661597  0.34220532 0.34220532 0.22813688 0.19011407\n",
      "  1.17870722]]\n"
     ]
    }
   ],
   "source": [
    "print(\"Labels: \", A.states)\n",
    "print(\"Dictioinary: \", A.statesidx)\n",
    "print(\"A:\\n\", A.getA())\n",
    "print(\"S:\\n\",A.getS())"
   ]
  },
  {
   "cell_type": "markdown",
   "metadata": {},
   "source": [
    "# Problem 3"
   ]
  },
  {
   "cell_type": "code",
   "execution_count": 6,
   "metadata": {},
   "outputs": [
    {
     "name": "stdout",
     "output_type": "stream",
     "text": [
      "Probabilities of reaching the the absorption states of Expulsion and Course Completion given any starting transient state:\n",
      " [[0.21683867 0.38403042 0.20803911 0.20803911 0.47202607 0.27430744\n",
      "  0.557849  ]\n",
      " [0.78316133 0.61596958 0.79196089 0.79196089 0.52797393 0.72569256\n",
      "  0.442151  ]]\n"
     ]
    }
   ],
   "source": [
    "B = matrix_A[7:,:7]\n",
    "G = np.dot(B, A.getS())\n",
    "print(\"Probabilities of reaching the the absorption states of Expulsion and Course Completion given any starting transient state:\\n\", G)"
   ]
  },
  {
   "cell_type": "code",
   "execution_count": 7,
   "metadata": {},
   "outputs": [
    {
     "data": {
      "text/plain": [
       "array([[0.  , 0.  , 0.  , 0.  , 0.  , 0.  , 0.  ],\n",
       "       [0.05, 0.7 , 0.  , 0.  , 0.  , 0.5 , 0.  ],\n",
       "       [0.35, 0.2 , 0.8 , 0.  , 0.1 , 0.  , 0.  ],\n",
       "       [0.6 , 0.  , 0.  , 0.8 , 0.1 , 0.  , 0.  ],\n",
       "       [0.  , 0.05, 0.  , 0.  , 0.7 , 0.  , 0.7 ],\n",
       "       [0.  , 0.  , 0.05, 0.05, 0.  , 0.3 , 0.1 ],\n",
       "       [0.  , 0.  , 0.05, 0.05, 0.  , 0.  , 0.  ]])"
      ]
     },
     "execution_count": 7,
     "metadata": {},
     "output_type": "execute_result"
    }
   ],
   "source": [
    "A.A"
   ]
  },
  {
   "cell_type": "code",
   "execution_count": 8,
   "metadata": {},
   "outputs": [
    {
     "data": {
      "text/plain": [
       "array([[ 1.  ,  0.  ,  0.  ,  0.  ,  0.  ,  0.  ,  0.  ],\n",
       "       [-0.05,  0.3 ,  0.  ,  0.  ,  0.  , -0.5 ,  0.  ],\n",
       "       [-0.35, -0.2 ,  0.2 ,  0.  , -0.1 ,  0.  ,  0.  ],\n",
       "       [-0.6 ,  0.  ,  0.  ,  0.2 , -0.1 ,  0.  ,  0.  ],\n",
       "       [ 0.  , -0.05,  0.  ,  0.  ,  0.3 ,  0.  , -0.7 ],\n",
       "       [ 0.  ,  0.  , -0.05, -0.05,  0.  ,  0.7 , -0.1 ],\n",
       "       [ 0.  ,  0.  , -0.05, -0.05,  0.  ,  0.  ,  1.  ]])"
      ]
     },
     "execution_count": 8,
     "metadata": {},
     "output_type": "execute_result"
    }
   ],
   "source": [
    "(np.eye(len(A.A)))-A.A"
   ]
  },
  {
   "cell_type": "code",
   "execution_count": null,
   "metadata": {},
   "outputs": [],
   "source": []
  }
 ],
 "metadata": {
  "kernelspec": {
   "display_name": "Python 3",
   "language": "python",
   "name": "python3"
  },
  "language_info": {
   "codemirror_mode": {
    "name": "ipython",
    "version": 3
   },
   "file_extension": ".py",
   "mimetype": "text/x-python",
   "name": "python",
   "nbconvert_exporter": "python",
   "pygments_lexer": "ipython3",
   "version": "3.8.5"
  }
 },
 "nbformat": 4,
 "nbformat_minor": 4
}
