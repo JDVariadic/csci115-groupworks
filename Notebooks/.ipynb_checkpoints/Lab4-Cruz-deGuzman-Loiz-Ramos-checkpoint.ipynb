{
 "cells": [
  {
   "cell_type": "markdown",
   "id": "radical-oxygen",
   "metadata": {},
   "source": [
    "# Problem 1"
   ]
  },
  {
   "cell_type": "code",
   "execution_count": 1,
   "id": "complimentary-product",
   "metadata": {},
   "outputs": [],
   "source": [
    "import pandas as pd\n",
    "import numpy as np\n",
    "from numpy import random\n",
    "\n",
    "class CorruptQueue:\n",
    "    def __init__ (self, df):\n",
    "        self.RegularQueue = []\n",
    "        self.VIPStack = []\n",
    "        self.supervisor = False\n",
    "        self.df = df\n",
    "        self.df.columns=['event', 'client', 'type']\n",
    "        \n",
    "    def read(self):\n",
    "        for idx, row in self.df.iterrows():\n",
    "            if row.event == \"arrive\":\n",
    "                print(\"Supervisor is present\")\n",
    "                [self.RegularQueue.append(self.VIPStack.pop()) for x in range(len(self.VIPStack))]\n",
    "                self.supervisor = True\n",
    "            elif row.event == \"leave\":\n",
    "                print(\"Supervisor not here\")\n",
    "                self.supervisor = False\n",
    "            elif row.event == \"lineup\":\n",
    "                if self.supervisor == True or row.type == \"regular\":\n",
    "                    self.RegularQueue.append([row.client, row.type])\n",
    "                    print(row.type,\"client\", row.client, \"lines up at RegularQueue\")\n",
    "                elif self.supervisor == False and row.type == \"VIP\":\n",
    "                    self.VIPStack.append([row.client, row.type])\n",
    "                    print(row.type, \"client\", row.client, \" lines up at VIPStack\")\n",
    "            elif row.event == \"serve\":\n",
    "                if self.VIPStack != []:\n",
    "                    print(\"Now serving\", self.VIPStack[-1][0],\"from VIPStack\")\n",
    "                    self.VIPStack.pop()\n",
    "                else:\n",
    "                    print(\"Now serving\", self.RegularQueue[0][0],\"from RegularQueue\")\n",
    "                    self.RegularQueue.pop(0)"
   ]
  },
  {
   "cell_type": "code",
   "execution_count": 2,
   "id": "selective-livestock",
   "metadata": {},
   "outputs": [
    {
     "name": "stdout",
     "output_type": "stream",
     "text": [
      "regular client John lines up at RegularQueue\n",
      "regular client Bob lines up at RegularQueue\n",
      "regular client Tom lines up at RegularQueue\n",
      "VIP client Sarah  lines up at VIPStack\n",
      "VIP client Marie  lines up at VIPStack\n",
      "VIP client Joan  lines up at VIPStack\n",
      "Now serving Joan from VIPStack\n",
      "Now serving Marie from VIPStack\n",
      "Supervisor is present\n",
      "Now serving John from RegularQueue\n",
      "Now serving Bob from RegularQueue\n",
      "Now serving Tom from RegularQueue\n",
      "VIP client Bea lines up at RegularQueue\n",
      "regular client Hank lines up at RegularQueue\n",
      "Now serving Sarah from RegularQueue\n",
      "Now serving Bea from RegularQueue\n",
      "Now serving Hank from RegularQueue\n",
      "Supervisor not here\n",
      "regular client Art lines up at RegularQueue\n",
      "VIP client Daisy  lines up at VIPStack\n",
      "regular client Marius lines up at RegularQueue\n",
      "VIP client Dane  lines up at VIPStack\n",
      "Now serving Dane from VIPStack\n",
      "Supervisor is present\n",
      "Now serving Art from RegularQueue\n",
      "Now serving Marius from RegularQueue\n",
      "Now serving Daisy from RegularQueue\n",
      "Supervisor not here\n"
     ]
    }
   ],
   "source": [
    "df = pd.read_csv(\"officeinput.txt\", header=None)\n",
    "a = CorruptQueue(df)\n",
    "a.read()"
   ]
  },
  {
   "cell_type": "markdown",
   "id": "romance-speaking",
   "metadata": {},
   "source": [
    "# Problem 2"
   ]
  },
  {
   "cell_type": "code",
   "execution_count": 3,
   "id": "still-connection",
   "metadata": {},
   "outputs": [],
   "source": [
    "class CorruptQueue:\n",
    "    def __init__ (self, df):\n",
    "        self.RegularQueue = []\n",
    "        self.VIPStack = []\n",
    "        self.supervisor = False\n",
    "        self.df = df\n",
    "        self.df.columns=['event', 'client', 'type']\n",
    "        \n",
    "    def read(self):\n",
    "        for idx, row in self.df.iterrows():\n",
    "            if row.event == \"arrive\":\n",
    "                print(\"Supervisor is present\", file=open(output, \"a\"))\n",
    "                [self.RegularQueue.append(self.VIPStack.pop()) for x in range(len(self.VIPStack))]\n",
    "                self.supervisor = True\n",
    "            elif row.event == \"leave\":\n",
    "                print(\"Supervisor not here\", file=open(output, \"a\"))\n",
    "                self.supervisor = False\n",
    "            elif row.event == \"lineup\":\n",
    "                if self.supervisor == True or row.type == \"regular\":\n",
    "                    self.RegularQueue.append([row.client, row.type])\n",
    "                    print(row.type,\"client\", row.client, \"lines up at RegularQueue\", file=open(output, \"a\"))\n",
    "                elif self.supervisor == False and row.type == \"VIP\":\n",
    "                    self.VIPStack.append([row.client, row.type])\n",
    "                    print(row.type, \"client\", row.client, \" lines up at VIPStack\", file=open(output, \"a\"))\n",
    "            elif row.event == \"serve\":\n",
    "                if self.VIPStack != []:\n",
    "                    print(\"Now serving\", self.VIPStack[-1][0],\"from VIPStack\", file=open(output, \"a\"))\n",
    "                    self.VIPStack.pop()\n",
    "                else:\n",
    "                    print(\"Now serving\", self.RegularQueue[0][0],\"from RegularQueue\", file=open(output, \"a\"))\n",
    "                    self.RegularQueue.pop(0)\n",
    "                    \n",
    "                "
   ]
  },
  {
   "cell_type": "code",
   "execution_count": 5,
   "id": "impressive-agency",
   "metadata": {},
   "outputs": [
    {
     "name": "stdin",
     "output_type": "stream",
     "text": [
      "Please enter txt file input to be used:  officeinput.txt\n"
     ]
    }
   ],
   "source": [
    "txt = input(\"Please enter txt file input to be used: \")\n",
    "df = pd.read_csv(txt, header=None)\n",
    "df.columns=['event', 'client', 'type']"
   ]
  },
  {
   "cell_type": "code",
   "execution_count": 12,
   "id": "minus-forth",
   "metadata": {},
   "outputs": [
    {
     "name": "stdin",
     "output_type": "stream",
     "text": [
      "Please enter the name of the txt file output to be craeted:  test42.txt\n"
     ]
    }
   ],
   "source": [
    "output = input(\"Please enter the name of the txt file output to be created: \")\n",
    "open(output,\"w+\")\n",
    "b = CorruptQueue(df)\n",
    "b.read()"
   ]
  },
  {
   "cell_type": "markdown",
   "id": "social-compact",
   "metadata": {},
   "source": [
    "# Problem 3"
   ]
  },
  {
   "cell_type": "code",
   "execution_count": 74,
   "id": "indian-beijing",
   "metadata": {},
   "outputs": [
    {
     "name": "stdout",
     "output_type": "stream",
     "text": [
      "1\n"
     ]
    }
   ],
   "source": [
    "x = random.poisson(lam=1)\n",
    "print(x)"
   ]
  },
  {
   "cell_type": "code",
   "execution_count": 10,
   "id": "further-radio",
   "metadata": {},
   "outputs": [],
   "source": [
    "class CorruptQueue:\n",
    "    def __init__ (self, df):\n",
    "        self.RegularQueue = []\n",
    "        self.Lambda = 1\n",
    "        self.mu = None\n",
    "        self.sigma = None\n",
    "        self.df = df\n",
    "        self.df.columns=['event', 'client', 'type']\n",
    "        \n",
    "    def read(self):\n",
    "        for idx, row in self.df.iterrows():\n",
    "            if row.event == \"lineup\":\n",
    "                self.RegularQueue.append([row.client, row.type])\n",
    "                print(row.type,\"client\", row.client, \"lines up at RegularQueue\")\n",
    "            elif row.event == \"serve\":\n",
    "                print(\"Now serving\", self.RegularQueue[0][0],\"from RegularQueue\")\n",
    "                self.RegularQueue.pop(0)\n",
    "                    \n",
    "    def getLambda(self):\n",
    "        return self.Lamda\n",
    "    \n",
    "    def setLamda(self, x):\n",
    "        self.Lamda = x\n",
    "        \n",
    "    def getMu(self):\n",
    "        return self.mu\n",
    "    \n",
    "    def setMu(self, x):\n",
    "        self.mu = x\n",
    "        \n",
    "    def getSigma(self):\n",
    "        return self.sigma\n",
    "        \n",
    "    def setSigma(self):\n",
    "        self.sigma"
   ]
  },
  {
   "cell_type": "code",
   "execution_count": 15,
   "id": "shaped-sunglasses",
   "metadata": {},
   "outputs": [],
   "source": [
    "class CQSimulation(CorruptQueue):\n",
    "    def __init__ (self):\n",
    "        super().__init__(df)\n",
    "        self.RegularQueue = []\n",
    "        self.t = 0\n",
    "        self.arrivals = 0\n",
    "        self.departures = 0\n",
    "        self.clients = 0\n",
    "        self.EL = [1, float('inf')]\n",
    "        \n",
    "    def simulate(self):\n",
    "        if self.EL[0] <= self.EL[1]:\n",
    "            self.t = self.EL[0]\n",
    "            self.arrivals += 1\n",
    "            self.clients += 1\n",
    "            # generate arrival time\n",
    "            self.EL[0] = ## set to new generate arrival time\n",
    "            if self.clients == 1:\n",
    "                ##generate service time\n",
    "                self.EL[1] = ## set to new gnerate service time\n",
    "            #collect output\n",
    "        elif self.EL[1] <= self.EL[0]:\n",
    "            self.t = self.EL[1]\n",
    "            self.departures += 1\n",
    "            self.clients -= 1\n",
    "            if self.clients == 0:\n",
    "                self.EL[1] = float('inf')\n",
    "            else:\n",
    "                #generate service time\n",
    "                self.EL[1] = ## set to new gnerate service time\n",
    "                #collect data\n",
    "        \n",
    "    def generateArrivals(self):\n",
    "        return random.poisson(self.Lambda)\n",
    "    \n",
    "    def generateServiceTime(self):\n",
    "        return random.normal(loc=self.mu, scale=self.sigma)\n",
    "    "
   ]
  },
  {
   "cell_type": "code",
   "execution_count": 18,
   "id": "union-accommodation",
   "metadata": {},
   "outputs": [
    {
     "data": {
      "text/plain": [
       "1"
      ]
     },
     "execution_count": 18,
     "metadata": {},
     "output_type": "execute_result"
    }
   ],
   "source": [
    "a = CQSimulation()\n",
    "a.generateArrivals()"
   ]
  },
  {
   "cell_type": "code",
   "execution_count": null,
   "id": "compatible-corruption",
   "metadata": {},
   "outputs": [],
   "source": []
  }
 ],
 "metadata": {
  "kernelspec": {
   "display_name": "Python 3",
   "language": "python",
   "name": "python3"
  },
  "language_info": {
   "codemirror_mode": {
    "name": "ipython",
    "version": 3
   },
   "file_extension": ".py",
   "mimetype": "text/x-python",
   "name": "python",
   "nbconvert_exporter": "python",
   "pygments_lexer": "ipython3",
   "version": "3.8.5"
  }
 },
 "nbformat": 4,
 "nbformat_minor": 5
}
